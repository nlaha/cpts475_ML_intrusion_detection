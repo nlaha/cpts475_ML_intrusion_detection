{
 "cells": [
  {
   "cell_type": "code",
   "execution_count": 2,
   "metadata": {},
   "outputs": [],
   "source": [
    "import duckdb\n",
    "import matplotlib.pyplot as plt\n",
    "import seaborn as sns\n",
    "import pandas as pd"
   ]
  },
  {
   "cell_type": "code",
   "execution_count": 8,
   "metadata": {},
   "outputs": [
    {
     "data": {
      "application/vnd.jupyter.widget-view+json": {
       "model_id": "837e96bbd15140d18b4a1f5b2f68e158",
       "version_major": 2,
       "version_minor": 0
      },
      "text/plain": [
       "FloatProgress(value=0.0, layout=Layout(width='auto'), style=ProgressStyle(bar_color='black'))"
      ]
     },
     "metadata": {},
     "output_type": "display_data"
    },
    {
     "ename": "KeyboardInterrupt",
     "evalue": "",
     "output_type": "error",
     "traceback": [
      "\u001b[1;31m---------------------------------------------------------------------------\u001b[0m",
      "\u001b[1;31mKeyboardInterrupt\u001b[0m                         Traceback (most recent call last)",
      "Cell \u001b[1;32mIn[8], line 1\u001b[0m\n\u001b[1;32m----> 1\u001b[0m full_data \u001b[38;5;241m=\u001b[39m \u001b[43mduckdb\u001b[49m\u001b[38;5;241;43m.\u001b[39;49m\u001b[43mread_csv\u001b[49m\u001b[43m(\u001b[49m\u001b[38;5;124;43m'\u001b[39;49m\u001b[38;5;124;43mtraining_data_source.csv\u001b[39;49m\u001b[38;5;124;43m'\u001b[39;49m\u001b[43m)\u001b[49m\u001b[38;5;241;43m.\u001b[39;49m\u001b[43mdf\u001b[49m\u001b[43m(\u001b[49m\u001b[43m)\u001b[49m\n\u001b[0;32m      3\u001b[0m plt\u001b[38;5;241m.\u001b[39mfigure(figsize\u001b[38;5;241m=\u001b[39m(\u001b[38;5;241m5\u001b[39m, \u001b[38;5;241m3\u001b[39m))\n\u001b[0;32m      4\u001b[0m \u001b[38;5;66;03m# pivot columns to longer format\u001b[39;00m\n",
      "File \u001b[1;32mk:\\cyber_logs_dataset\\venv\\lib\\site-packages\\numpy\\ma\\core.py:2881\u001b[0m, in \u001b[0;36mMaskedArray.__new__\u001b[1;34m(cls, data, mask, dtype, copy, subok, ndmin, fill_value, keep_mask, hard_mask, shrink, order)\u001b[0m\n\u001b[0;32m   2879\u001b[0m \u001b[38;5;66;03m# Process data.\u001b[39;00m\n\u001b[0;32m   2880\u001b[0m copy \u001b[38;5;241m=\u001b[39m \u001b[38;5;28;01mNone\u001b[39;00m \u001b[38;5;28;01mif\u001b[39;00m \u001b[38;5;129;01mnot\u001b[39;00m copy \u001b[38;5;28;01melse\u001b[39;00m \u001b[38;5;28;01mTrue\u001b[39;00m\n\u001b[1;32m-> 2881\u001b[0m _data \u001b[38;5;241m=\u001b[39m \u001b[43mnp\u001b[49m\u001b[38;5;241;43m.\u001b[39;49m\u001b[43marray\u001b[49m\u001b[43m(\u001b[49m\u001b[43mdata\u001b[49m\u001b[43m,\u001b[49m\u001b[43m \u001b[49m\u001b[43mdtype\u001b[49m\u001b[38;5;241;43m=\u001b[39;49m\u001b[43mdtype\u001b[49m\u001b[43m,\u001b[49m\u001b[43m \u001b[49m\u001b[43mcopy\u001b[49m\u001b[38;5;241;43m=\u001b[39;49m\u001b[43mcopy\u001b[49m\u001b[43m,\u001b[49m\n\u001b[0;32m   2882\u001b[0m \u001b[43m                 \u001b[49m\u001b[43morder\u001b[49m\u001b[38;5;241;43m=\u001b[39;49m\u001b[43morder\u001b[49m\u001b[43m,\u001b[49m\u001b[43m \u001b[49m\u001b[43msubok\u001b[49m\u001b[38;5;241;43m=\u001b[39;49m\u001b[38;5;28;43;01mTrue\u001b[39;49;00m\u001b[43m,\u001b[49m\u001b[43m \u001b[49m\u001b[43mndmin\u001b[49m\u001b[38;5;241;43m=\u001b[39;49m\u001b[43mndmin\u001b[49m\u001b[43m)\u001b[49m\n\u001b[0;32m   2883\u001b[0m _baseclass \u001b[38;5;241m=\u001b[39m \u001b[38;5;28mgetattr\u001b[39m(data, \u001b[38;5;124m'\u001b[39m\u001b[38;5;124m_baseclass\u001b[39m\u001b[38;5;124m'\u001b[39m, \u001b[38;5;28mtype\u001b[39m(_data))\n\u001b[0;32m   2884\u001b[0m \u001b[38;5;66;03m# Check that we're not erasing the mask.\u001b[39;00m\n",
      "\u001b[1;31mKeyboardInterrupt\u001b[0m: "
     ]
    }
   ],
   "source": [
    "full_data = duckdb.read_csv('training_data_source.csv').df()\n",
    "data = full_data.sample(0.1)\n",
    "\n",
    "plt.figure(figsize=(5, 3))\n",
    "# pivot columns to longer format\n",
    "bots_data_melt = data.melt(id_vars=['Label'], value_vars=[\n",
    "    \"Dst Port\",\n",
    "    \"Src Port\",\n",
    "    \"Protocol\",\n",
    "    \"Timestamp\",\n",
    "    \"Flow Duration\",\n",
    "    \"Tot Fwd Pkts\",\n",
    "    \"Tot Bwd Pkts\",\n",
    "    \"TotLen Fwd Pkts\",\n",
    "    \"TotLen Bwd Pkts\",\n",
    "    \"Fwd Pkt Len Max\",\n",
    "    \"Fwd Pkt Len Min\",\n",
    "    \"Fwd Pkt Len Mean\",\n",
    "    \"Fwd Pkt Len Std\",\n",
    "    \"Bwd Pkt Len Max\",\n",
    "    \"Bwd Pkt Len Min\",\n",
    "    \"Bwd Pkt Len Mean\",\n",
    "    \"Bwd Pkt Len Std\",\n",
    "    \"Flow Byts/s\",\n",
    "    \"Flow Pkts/s\",\n",
    "    \"Flow IAT Mean\",\n",
    "    \"Flow IAT Std\",\n",
    "    \"Flow IAT Max\",\n",
    "    \"Flow IAT Min\",\n",
    "    \"Fwd IAT Tot\",\n",
    "    \"Fwd IAT Mean\",\n",
    "    \"Fwd IAT Std\",\n",
    "    \"Fwd IAT Max\",\n",
    "    \"Fwd IAT Min\",\n",
    "    \"Bwd IAT Tot\",\n",
    "    \"Bwd IAT Mean\",\n",
    "    \"Bwd IAT Std\",\n",
    "    \"Bwd IAT Max\",\n",
    "    \"Bwd IAT Min\",\n",
    "    \"Fwd PSH Flags\",\n",
    "    \"Bwd PSH Flags\",\n",
    "    \"Fwd URG Flags\",\n",
    "    \"Bwd URG Flags\",\n",
    "    \"Fwd Header Len\",\n",
    "    \"Bwd Header Len\",\n",
    "    \"Fwd Pkts/s\",\n",
    "    \"Bwd Pkts/s\",\n",
    "    \"Pkt Len Min\",\n",
    "    \"Pkt Len Max\",\n",
    "    \"Pkt Len Mean\",\n",
    "    \"Pkt Len Std\",\n",
    "    \"Pkt Len Var\",\n",
    "    \"FIN Flag Cnt\",\n",
    "    \"SYN Flag Cnt\",\n",
    "    \"RST Flag Cnt\",\n",
    "    \"PSH Flag Cnt\",\n",
    "    \"ACK Flag Cnt\",\n",
    "    \"URG Flag Cnt\",\n",
    "    \"CWE Flag Count\",\n",
    "    \"ECE Flag Cnt\",\n",
    "    \"Down/Up Ratio\",\n",
    "    \"Pkt Size Avg\",\n",
    "    \"Fwd Seg Size Avg\",\n",
    "    \"Bwd Seg Size Avg\",\n",
    "    \"Fwd Byts/b Avg\",\n",
    "    \"Fwd Pkts/b Avg\",\n",
    "    \"Fwd Blk Rate Avg\",\n",
    "    \"Bwd Byts/b Avg\",\n",
    "    \"Bwd Pkts/b Avg\",\n",
    "    \"Bwd Blk Rate Avg\",\n",
    "    \"Subflow Fwd Pkts\",\n",
    "    \"Subflow Fwd Byts\",\n",
    "    \"Subflow Bwd Pkts\",\n",
    "    \"Subflow Bwd Byts\",\n",
    "    \"Init Fwd Win Byts\",\n",
    "    \"Init Bwd Win Byts\",\n",
    "    \"Fwd Act Data Pkts\",\n",
    "    \"Fwd Seg Size Min\",\n",
    "    \"Active Mean\",\n",
    "    \"Active Std\",\n",
    "    \"Active Max\",\n",
    "    \"Active Min\",\n",
    "    \"Idle Mean\",\n",
    "    \"Idle Std\",\n",
    "    \"Idle Max\",\n",
    "    \"Idle Min\",\n",
    "])\n",
    "\n",
    "sns.catplot(\n",
    "    data=bots_data_melt,\n",
    "    y='Label',\n",
    "    x='value',\n",
    "    kind='box',\n",
    "    col='variable',\n",
    "    orient='h',\n",
    "    col_wrap=4,\n",
    "    sharey=True,\n",
    "    sharex=False,\n",
    "    height=3,\n",
    "    aspect=1.2,\n",
    "    margin_titles=True,\n",
    ")\n",
    "\n",
    "# add title on top of facet grid\n",
    "plt.subplots_adjust(top=0.9)\n",
    "plt.suptitle('Feature distribution for IP addresses with and without attacks')"
   ]
  }
 ],
 "metadata": {
  "kernelspec": {
   "display_name": "venv",
   "language": "python",
   "name": "python3"
  },
  "language_info": {
   "codemirror_mode": {
    "name": "ipython",
    "version": 3
   },
   "file_extension": ".py",
   "mimetype": "text/x-python",
   "name": "python",
   "nbconvert_exporter": "python",
   "pygments_lexer": "ipython3",
   "version": "3.10.11"
  }
 },
 "nbformat": 4,
 "nbformat_minor": 2
}
